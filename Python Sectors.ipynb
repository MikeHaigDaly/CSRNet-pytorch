{
  "nbformat": 4,
  "nbformat_minor": 0,
  "metadata": {
    "colab": {
      "name": "Untitled1.ipynb",
      "version": "0.3.2",
      "provenance": [],
      "collapsed_sections": [],
      "include_colab_link": true
    },
    "kernelspec": {
      "name": "python3",
      "display_name": "Python 3"
    },
    "accelerator": "GPU"
  },
  "cells": [
    {
      "cell_type": "markdown",
      "metadata": {
        "id": "view-in-github",
        "colab_type": "text"
      },
      "source": [
        "<a href=\"https://colab.research.google.com/github/MikeHaigDaly/CSRNet-pytorch/blob/master/Python%20Sectors.ipynb\" target=\"_parent\"><img src=\"https://colab.research.google.com/assets/colab-badge.svg\" alt=\"Open In Colab\"/></a>"
      ]
    },
    {
      "metadata": {
        "id": "Xzwnu90H1WVV",
        "colab_type": "code",
        "colab": {}
      },
      "cell_type": "code",
      "source": [
        "import os\n",
        "import numpy as np\n",
        "import pandas as pd\n",
        "from os import walk\n",
        "import re\n",
        "\n",
        "import matplotlib.pyplot as plt\n",
        "\n",
        "from sklearn.feature_extraction.text import CountVectorizer\n",
        "from sklearn.feature_extraction.text import TfidfVectorizer\n",
        "from sklearn.feature_selection import SelectKBest\n",
        "from sklearn.feature_selection import f_classif\n",
        "\n",
        "\n",
        "path = 'C:/Users/Michael/Desktop/'\n"
      ],
      "execution_count": 0,
      "outputs": []
    },
    {
      "metadata": {
        "scrolled": true,
        "id": "8jDZsbZ71WVc",
        "colab_type": "code",
        "outputId": "cb9212cf-f4a7-4d96-d1fd-9d06d1078965",
        "colab": {
          "resources": {
            "http://localhost:8080/nbextensions/google.colab/files.js": {
              "data": "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",
              "ok": true,
              "headers": [
                [
                  "content-type",
                  "application/javascript"
                ]
              ],
              "status": 200,
              "status_text": "OK"
            }
          },
          "base_uri": "https://localhost:8080/",
          "height": 74
        }
      },
      "cell_type": "code",
      "source": [
        "from google.colab import files\n",
        "uploaded = files.upload()\n"
      ],
      "execution_count": 2,
      "outputs": [
        {
          "output_type": "display_data",
          "data": {
            "text/html": [
              "\n",
              "     <input type=\"file\" id=\"files-8fcd2f49-96a9-42b2-80d4-ceea162cdaa0\" name=\"files[]\" multiple disabled />\n",
              "     <output id=\"result-8fcd2f49-96a9-42b2-80d4-ceea162cdaa0\">\n",
              "      Upload widget is only available when the cell has been executed in the\n",
              "      current browser session. Please rerun this cell to enable.\n",
              "      </output>\n",
              "      <script src=\"/nbextensions/google.colab/files.js\"></script> "
            ],
            "text/plain": [
              "<IPython.core.display.HTML object>"
            ]
          },
          "metadata": {
            "tags": []
          }
        },
        {
          "output_type": "stream",
          "text": [
            "Saving PythonSectors.csv to PythonSectors.csv\n"
          ],
          "name": "stdout"
        }
      ]
    },
    {
      "metadata": {
        "id": "uZxE_UCSKAo4",
        "colab_type": "code",
        "outputId": "28b550fd-45ef-4864-d418-34903d8298af",
        "colab": {
          "base_uri": "https://localhost:8080/",
          "height": 195
        }
      },
      "cell_type": "code",
      "source": [
        "import io\n",
        "df2 = pd.read_csv(io.BytesIO(uploaded['PythonSectors.csv']))\n",
        "df2.head()"
      ],
      "execution_count": 3,
      "outputs": [
        {
          "output_type": "execute_result",
          "data": {
            "text/html": [
              "<div>\n",
              "<style scoped>\n",
              "    .dataframe tbody tr th:only-of-type {\n",
              "        vertical-align: middle;\n",
              "    }\n",
              "\n",
              "    .dataframe tbody tr th {\n",
              "        vertical-align: top;\n",
              "    }\n",
              "\n",
              "    .dataframe thead th {\n",
              "        text-align: right;\n",
              "    }\n",
              "</style>\n",
              "<table border=\"1\" class=\"dataframe\">\n",
              "  <thead>\n",
              "    <tr style=\"text-align: right;\">\n",
              "      <th></th>\n",
              "      <th>DES</th>\n",
              "      <th>Sector</th>\n",
              "    </tr>\n",
              "  </thead>\n",
              "  <tbody>\n",
              "    <tr>\n",
              "      <th>0</th>\n",
              "      <td>Wheelabrator Technologies, Inc. provides waste...</td>\n",
              "      <td>Biomass &amp; Waste</td>\n",
              "    </tr>\n",
              "    <tr>\n",
              "      <th>1</th>\n",
              "      <td>Energy Development Corporation produces geothe...</td>\n",
              "      <td>Geothermal</td>\n",
              "    </tr>\n",
              "    <tr>\n",
              "      <th>2</th>\n",
              "      <td>Energy Development Corporation produces geothe...</td>\n",
              "      <td>Geothermal</td>\n",
              "    </tr>\n",
              "    <tr>\n",
              "      <th>3</th>\n",
              "      <td>Energy Development Corporation produces geothe...</td>\n",
              "      <td>Geothermal</td>\n",
              "    </tr>\n",
              "    <tr>\n",
              "      <th>4</th>\n",
              "      <td>Xnergy Inc. provides alternative energy soluti...</td>\n",
              "      <td>Efficiency: Built Environment</td>\n",
              "    </tr>\n",
              "  </tbody>\n",
              "</table>\n",
              "</div>"
            ],
            "text/plain": [
              "                                                 DES  \\\n",
              "0  Wheelabrator Technologies, Inc. provides waste...   \n",
              "1  Energy Development Corporation produces geothe...   \n",
              "2  Energy Development Corporation produces geothe...   \n",
              "3  Energy Development Corporation produces geothe...   \n",
              "4  Xnergy Inc. provides alternative energy soluti...   \n",
              "\n",
              "                          Sector  \n",
              "0                Biomass & Waste  \n",
              "1                     Geothermal  \n",
              "2                     Geothermal  \n",
              "3                     Geothermal  \n",
              "4  Efficiency: Built Environment  "
            ]
          },
          "metadata": {
            "tags": []
          },
          "execution_count": 3
        }
      ]
    },
    {
      "metadata": {
        "scrolled": false,
        "id": "HhMYmOJ21WVg",
        "colab_type": "code",
        "outputId": "73a0144c-3b00-4626-e8bd-58660b1ba8e3",
        "colab": {
          "base_uri": "https://localhost:8080/",
          "height": 1882
        }
      },
      "cell_type": "code",
      "source": [
        "df2[df2['Sector'].str.contains('Biofuel')]"
      ],
      "execution_count": 4,
      "outputs": [
        {
          "output_type": "execute_result",
          "data": {
            "text/html": [
              "<div>\n",
              "<style scoped>\n",
              "    .dataframe tbody tr th:only-of-type {\n",
              "        vertical-align: middle;\n",
              "    }\n",
              "\n",
              "    .dataframe tbody tr th {\n",
              "        vertical-align: top;\n",
              "    }\n",
              "\n",
              "    .dataframe thead th {\n",
              "        text-align: right;\n",
              "    }\n",
              "</style>\n",
              "<table border=\"1\" class=\"dataframe\">\n",
              "  <thead>\n",
              "    <tr style=\"text-align: right;\">\n",
              "      <th></th>\n",
              "      <th>DES</th>\n",
              "      <th>Sector</th>\n",
              "    </tr>\n",
              "  </thead>\n",
              "  <tbody>\n",
              "    <tr>\n",
              "      <th>5</th>\n",
              "      <td>SunOpta BioProcess Inc. provides food. The Com...</td>\n",
              "      <td>Biofuels</td>\n",
              "    </tr>\n",
              "    <tr>\n",
              "      <th>6</th>\n",
              "      <td>SunOpta BioProcess Inc. provides food. The Com...</td>\n",
              "      <td>Biofuels</td>\n",
              "    </tr>\n",
              "    <tr>\n",
              "      <th>32</th>\n",
              "      <td>Maerka GmbH provides farming of oil seeds for ...</td>\n",
              "      <td>Biofuels</td>\n",
              "    </tr>\n",
              "    <tr>\n",
              "      <th>33</th>\n",
              "      <td>Global Ethano Il LLC produces ethanol made fro...</td>\n",
              "      <td>Biofuels</td>\n",
              "    </tr>\n",
              "    <tr>\n",
              "      <th>47</th>\n",
              "      <td>American BDF LLC  operates in building small p...</td>\n",
              "      <td>Biofuels</td>\n",
              "    </tr>\n",
              "    <tr>\n",
              "      <th>49</th>\n",
              "      <td>Tellurian Biodiesel Inc. produces, markets, an...</td>\n",
              "      <td>Biofuels</td>\n",
              "    </tr>\n",
              "    <tr>\n",
              "      <th>61</th>\n",
              "      <td>Amyris, Inc. is a renewable products company. ...</td>\n",
              "      <td>Biofuels</td>\n",
              "    </tr>\n",
              "    <tr>\n",
              "      <th>75</th>\n",
              "      <td>Western Ethanol Company LLC  markets and distr...</td>\n",
              "      <td>Biofuels</td>\n",
              "    </tr>\n",
              "    <tr>\n",
              "      <th>84</th>\n",
              "      <td>Usaciga Acucar Alcool e Energia Electrica Ltda...</td>\n",
              "      <td>Biofuels</td>\n",
              "    </tr>\n",
              "    <tr>\n",
              "      <th>94</th>\n",
              "      <td>General Bio Energy Inc. manufactures eco-petro...</td>\n",
              "      <td>Biofuels</td>\n",
              "    </tr>\n",
              "    <tr>\n",
              "      <th>131</th>\n",
              "      <td>Infinity Bio-Energy Ltd produces clean and ren...</td>\n",
              "      <td>Biofuels</td>\n",
              "    </tr>\n",
              "    <tr>\n",
              "      <th>136</th>\n",
              "      <td>e-biofuels LLC manufactures and distributes bi...</td>\n",
              "      <td>Biofuels</td>\n",
              "    </tr>\n",
              "    <tr>\n",
              "      <th>142</th>\n",
              "      <td>Renuka do Brasil SA operates a sugar mill and ...</td>\n",
              "      <td>Biofuels</td>\n",
              "    </tr>\n",
              "    <tr>\n",
              "      <th>160</th>\n",
              "      <td>BIOPETROL INDUSTRIES AG manufactures and distr...</td>\n",
              "      <td>Biofuels</td>\n",
              "    </tr>\n",
              "    <tr>\n",
              "      <th>182</th>\n",
              "      <td>ESV Group Plc is a logistics company focusing ...</td>\n",
              "      <td>Biofuels</td>\n",
              "    </tr>\n",
              "    <tr>\n",
              "      <th>183</th>\n",
              "      <td>ESV Group Plc is a logistics company focusing ...</td>\n",
              "      <td>Biofuels</td>\n",
              "    </tr>\n",
              "    <tr>\n",
              "      <th>192</th>\n",
              "      <td>Choren Industries GmbH operates in gasifying b...</td>\n",
              "      <td>Biofuels</td>\n",
              "    </tr>\n",
              "    <tr>\n",
              "      <th>213</th>\n",
              "      <td>Usaciga Acucar Alcool e Energia Electrica Ltda...</td>\n",
              "      <td>Biofuels</td>\n",
              "    </tr>\n",
              "    <tr>\n",
              "      <th>218</th>\n",
              "      <td>Terrabon Inc. develops biofuels. The Company o...</td>\n",
              "      <td>Biofuels</td>\n",
              "    </tr>\n",
              "    <tr>\n",
              "      <th>244</th>\n",
              "      <td>D1-BP Fuel Crops Ltd. produces inedible oil. T...</td>\n",
              "      <td>Biofuels</td>\n",
              "    </tr>\n",
              "    <tr>\n",
              "      <th>263</th>\n",
              "      <td>Biodiesel Austindo Ltd PT produces crude jatro...</td>\n",
              "      <td>Biofuels</td>\n",
              "    </tr>\n",
              "    <tr>\n",
              "      <th>264</th>\n",
              "      <td>REG Bio-Power UK Ltd. is headquartered in Nott...</td>\n",
              "      <td>Biofuels</td>\n",
              "    </tr>\n",
              "    <tr>\n",
              "      <th>271</th>\n",
              "      <td>Neckermann Renewables Wittenberg GmbH processe...</td>\n",
              "      <td>Biofuels</td>\n",
              "    </tr>\n",
              "    <tr>\n",
              "      <th>278</th>\n",
              "      <td>Aly Participacoes Ltda provides sugarcane proc...</td>\n",
              "      <td>Biofuels</td>\n",
              "    </tr>\n",
              "    <tr>\n",
              "      <th>283</th>\n",
              "      <td>Ageratec provides biodiesel production, logist...</td>\n",
              "      <td>Biofuels</td>\n",
              "    </tr>\n",
              "    <tr>\n",
              "      <th>295</th>\n",
              "      <td>Chongqing Huanqin Petrochemical Company Ltd. o...</td>\n",
              "      <td>Biofuels</td>\n",
              "    </tr>\n",
              "    <tr>\n",
              "      <th>301</th>\n",
              "      <td>Pure Energy Corporation focuses on bridging th...</td>\n",
              "      <td>Biofuels</td>\n",
              "    </tr>\n",
              "    <tr>\n",
              "      <th>302</th>\n",
              "      <td>Edible Oil Marketing LLC is an independent mar...</td>\n",
              "      <td>Biofuels</td>\n",
              "    </tr>\n",
              "    <tr>\n",
              "      <th>303</th>\n",
              "      <td>Dinghan Biotechnology Company Ltd. provides re...</td>\n",
              "      <td>Biofuels</td>\n",
              "    </tr>\n",
              "    <tr>\n",
              "      <th>304</th>\n",
              "      <td>Dinghan Biotechnology Company Ltd. provides re...</td>\n",
              "      <td>Biofuels</td>\n",
              "    </tr>\n",
              "    <tr>\n",
              "      <th>...</th>\n",
              "      <td>...</td>\n",
              "      <td>...</td>\n",
              "    </tr>\n",
              "    <tr>\n",
              "      <th>3998</th>\n",
              "      <td>Biodiesel International Corp is based in the U...</td>\n",
              "      <td>Biofuels</td>\n",
              "    </tr>\n",
              "    <tr>\n",
              "      <th>4007</th>\n",
              "      <td>Icon Drilling Pty Ltd. provides exploration an...</td>\n",
              "      <td>Biofuels</td>\n",
              "    </tr>\n",
              "    <tr>\n",
              "      <th>4019</th>\n",
              "      <td>Biodiesel Solutions Inc. manufactures personal...</td>\n",
              "      <td>Biofuels</td>\n",
              "    </tr>\n",
              "    <tr>\n",
              "      <th>4026</th>\n",
              "      <td>Biodiesel New Zealand Ltd. produces biodiesel ...</td>\n",
              "      <td>Biofuels</td>\n",
              "    </tr>\n",
              "    <tr>\n",
              "      <th>4044</th>\n",
              "      <td>Vale Do Rosario Sugar Company manufactures sug...</td>\n",
              "      <td>Biofuels</td>\n",
              "    </tr>\n",
              "    <tr>\n",
              "      <th>4054</th>\n",
              "      <td>Kumpulan Guthrie Berhad has core businesses in...</td>\n",
              "      <td>Biofuels</td>\n",
              "    </tr>\n",
              "    <tr>\n",
              "      <th>4055</th>\n",
              "      <td>Golden Hope Plantations Berhad is an investmen...</td>\n",
              "      <td>Biofuels</td>\n",
              "    </tr>\n",
              "    <tr>\n",
              "      <th>4056</th>\n",
              "      <td>Kumpulan Sime Darby Berhad is an investment ho...</td>\n",
              "      <td>Biofuels</td>\n",
              "    </tr>\n",
              "    <tr>\n",
              "      <th>4063</th>\n",
              "      <td>World Health Energy Inc. produces energy from ...</td>\n",
              "      <td>Biofuels</td>\n",
              "    </tr>\n",
              "    <tr>\n",
              "      <th>4070</th>\n",
              "      <td>Alcar Chemicals Group, Inc. manufactures plast...</td>\n",
              "      <td>Biofuels</td>\n",
              "    </tr>\n",
              "    <tr>\n",
              "      <th>4080</th>\n",
              "      <td>Adarna Energy Corporation researches and devel...</td>\n",
              "      <td>Biofuels</td>\n",
              "    </tr>\n",
              "    <tr>\n",
              "      <th>4093</th>\n",
              "      <td>GroPep Limited is a biotechnology company that...</td>\n",
              "      <td>Biofuels</td>\n",
              "    </tr>\n",
              "    <tr>\n",
              "      <th>4100</th>\n",
              "      <td>Pure Biofuels del Peru SAC produces sustainabl...</td>\n",
              "      <td>Biofuels</td>\n",
              "    </tr>\n",
              "    <tr>\n",
              "      <th>4110</th>\n",
              "      <td>BASF Catalysts LLC manufactures and markets en...</td>\n",
              "      <td>Biofuels</td>\n",
              "    </tr>\n",
              "    <tr>\n",
              "      <th>4116</th>\n",
              "      <td>Midwest Grain Processors is a renewable energy...</td>\n",
              "      <td>Biofuels</td>\n",
              "    </tr>\n",
              "    <tr>\n",
              "      <th>4117</th>\n",
              "      <td>Albemarle Biorefinery Inc. operates in ethanol...</td>\n",
              "      <td>Biofuels</td>\n",
              "    </tr>\n",
              "    <tr>\n",
              "      <th>4118</th>\n",
              "      <td>Iogen Corporation provides renewable biofuels ...</td>\n",
              "      <td>Biofuels</td>\n",
              "    </tr>\n",
              "    <tr>\n",
              "      <th>4123</th>\n",
              "      <td>Soyatech LLC produces biofuels from soybean, o...</td>\n",
              "      <td>Biofuels</td>\n",
              "    </tr>\n",
              "    <tr>\n",
              "      <th>4134</th>\n",
              "      <td>Syntec Biofuel Inc/Old seeks to produce ethano...</td>\n",
              "      <td>Biofuels</td>\n",
              "    </tr>\n",
              "    <tr>\n",
              "      <th>4140</th>\n",
              "      <td>Comlube Srl produces a complete line of lubric...</td>\n",
              "      <td>Biofuels</td>\n",
              "    </tr>\n",
              "    <tr>\n",
              "      <th>4172</th>\n",
              "      <td>Scanline Pty Ltd. provides recycling of used c...</td>\n",
              "      <td>Biofuels</td>\n",
              "    </tr>\n",
              "    <tr>\n",
              "      <th>4173</th>\n",
              "      <td>Ashworths Products Ltd. is based in the United...</td>\n",
              "      <td>Biofuels</td>\n",
              "    </tr>\n",
              "    <tr>\n",
              "      <th>4177</th>\n",
              "      <td>NewGen Technologies, Inc. is a fuel production...</td>\n",
              "      <td>Biofuels</td>\n",
              "    </tr>\n",
              "    <tr>\n",
              "      <th>4212</th>\n",
              "      <td>ReEnergy LLC provides research for the develop...</td>\n",
              "      <td>Biofuels</td>\n",
              "    </tr>\n",
              "    <tr>\n",
              "      <th>4213</th>\n",
              "      <td>Pacific Ethanol, Inc. produces and markets eth...</td>\n",
              "      <td>Biofuels</td>\n",
              "    </tr>\n",
              "    <tr>\n",
              "      <th>4237</th>\n",
              "      <td>Sustainable Systems LLC owns and operates an o...</td>\n",
              "      <td>Biofuels</td>\n",
              "    </tr>\n",
              "    <tr>\n",
              "      <th>4247</th>\n",
              "      <td>Kinergy Marketing LLC sells and distributes et...</td>\n",
              "      <td>Biofuels</td>\n",
              "    </tr>\n",
              "    <tr>\n",
              "      <th>4264</th>\n",
              "      <td>Ecolomondo Inc. operates recycling plant utili...</td>\n",
              "      <td>Biofuels</td>\n",
              "    </tr>\n",
              "    <tr>\n",
              "      <th>4276</th>\n",
              "      <td>GREENLAB Agronomics Inc. owns and operates an ...</td>\n",
              "      <td>Biofuels</td>\n",
              "    </tr>\n",
              "    <tr>\n",
              "      <th>4285</th>\n",
              "      <td>Neova AB provides bio-heat and bio-fuel energy...</td>\n",
              "      <td>Biofuels</td>\n",
              "    </tr>\n",
              "  </tbody>\n",
              "</table>\n",
              "<p>360 rows × 2 columns</p>\n",
              "</div>"
            ],
            "text/plain": [
              "                                                    DES    Sector\n",
              "5     SunOpta BioProcess Inc. provides food. The Com...  Biofuels\n",
              "6     SunOpta BioProcess Inc. provides food. The Com...  Biofuels\n",
              "32    Maerka GmbH provides farming of oil seeds for ...  Biofuels\n",
              "33    Global Ethano Il LLC produces ethanol made fro...  Biofuels\n",
              "47    American BDF LLC  operates in building small p...  Biofuels\n",
              "49    Tellurian Biodiesel Inc. produces, markets, an...  Biofuels\n",
              "61    Amyris, Inc. is a renewable products company. ...  Biofuels\n",
              "75    Western Ethanol Company LLC  markets and distr...  Biofuels\n",
              "84    Usaciga Acucar Alcool e Energia Electrica Ltda...  Biofuels\n",
              "94    General Bio Energy Inc. manufactures eco-petro...  Biofuels\n",
              "131   Infinity Bio-Energy Ltd produces clean and ren...  Biofuels\n",
              "136   e-biofuels LLC manufactures and distributes bi...  Biofuels\n",
              "142   Renuka do Brasil SA operates a sugar mill and ...  Biofuels\n",
              "160   BIOPETROL INDUSTRIES AG manufactures and distr...  Biofuels\n",
              "182   ESV Group Plc is a logistics company focusing ...  Biofuels\n",
              "183   ESV Group Plc is a logistics company focusing ...  Biofuels\n",
              "192   Choren Industries GmbH operates in gasifying b...  Biofuels\n",
              "213   Usaciga Acucar Alcool e Energia Electrica Ltda...  Biofuels\n",
              "218   Terrabon Inc. develops biofuels. The Company o...  Biofuels\n",
              "244   D1-BP Fuel Crops Ltd. produces inedible oil. T...  Biofuels\n",
              "263   Biodiesel Austindo Ltd PT produces crude jatro...  Biofuels\n",
              "264   REG Bio-Power UK Ltd. is headquartered in Nott...  Biofuels\n",
              "271   Neckermann Renewables Wittenberg GmbH processe...  Biofuels\n",
              "278   Aly Participacoes Ltda provides sugarcane proc...  Biofuels\n",
              "283   Ageratec provides biodiesel production, logist...  Biofuels\n",
              "295   Chongqing Huanqin Petrochemical Company Ltd. o...  Biofuels\n",
              "301   Pure Energy Corporation focuses on bridging th...  Biofuels\n",
              "302   Edible Oil Marketing LLC is an independent mar...  Biofuels\n",
              "303   Dinghan Biotechnology Company Ltd. provides re...  Biofuels\n",
              "304   Dinghan Biotechnology Company Ltd. provides re...  Biofuels\n",
              "...                                                 ...       ...\n",
              "3998  Biodiesel International Corp is based in the U...  Biofuels\n",
              "4007  Icon Drilling Pty Ltd. provides exploration an...  Biofuels\n",
              "4019  Biodiesel Solutions Inc. manufactures personal...  Biofuels\n",
              "4026  Biodiesel New Zealand Ltd. produces biodiesel ...  Biofuels\n",
              "4044  Vale Do Rosario Sugar Company manufactures sug...  Biofuels\n",
              "4054  Kumpulan Guthrie Berhad has core businesses in...  Biofuels\n",
              "4055  Golden Hope Plantations Berhad is an investmen...  Biofuels\n",
              "4056  Kumpulan Sime Darby Berhad is an investment ho...  Biofuels\n",
              "4063  World Health Energy Inc. produces energy from ...  Biofuels\n",
              "4070  Alcar Chemicals Group, Inc. manufactures plast...  Biofuels\n",
              "4080  Adarna Energy Corporation researches and devel...  Biofuels\n",
              "4093  GroPep Limited is a biotechnology company that...  Biofuels\n",
              "4100  Pure Biofuels del Peru SAC produces sustainabl...  Biofuels\n",
              "4110  BASF Catalysts LLC manufactures and markets en...  Biofuels\n",
              "4116  Midwest Grain Processors is a renewable energy...  Biofuels\n",
              "4117  Albemarle Biorefinery Inc. operates in ethanol...  Biofuels\n",
              "4118  Iogen Corporation provides renewable biofuels ...  Biofuels\n",
              "4123  Soyatech LLC produces biofuels from soybean, o...  Biofuels\n",
              "4134  Syntec Biofuel Inc/Old seeks to produce ethano...  Biofuels\n",
              "4140  Comlube Srl produces a complete line of lubric...  Biofuels\n",
              "4172  Scanline Pty Ltd. provides recycling of used c...  Biofuels\n",
              "4173  Ashworths Products Ltd. is based in the United...  Biofuels\n",
              "4177  NewGen Technologies, Inc. is a fuel production...  Biofuels\n",
              "4212  ReEnergy LLC provides research for the develop...  Biofuels\n",
              "4213  Pacific Ethanol, Inc. produces and markets eth...  Biofuels\n",
              "4237  Sustainable Systems LLC owns and operates an o...  Biofuels\n",
              "4247  Kinergy Marketing LLC sells and distributes et...  Biofuels\n",
              "4264  Ecolomondo Inc. operates recycling plant utili...  Biofuels\n",
              "4276  GREENLAB Agronomics Inc. owns and operates an ...  Biofuels\n",
              "4285  Neova AB provides bio-heat and bio-fuel energy...  Biofuels\n",
              "\n",
              "[360 rows x 2 columns]"
            ]
          },
          "metadata": {
            "tags": []
          },
          "execution_count": 4
        }
      ]
    },
    {
      "metadata": {
        "id": "C2raqPR71WVm",
        "colab_type": "code",
        "outputId": "e0338d96-7e33-4842-aa5c-8525f8815758",
        "colab": {
          "base_uri": "https://localhost:8080/",
          "height": 34
        }
      },
      "cell_type": "code",
      "source": [
        "# df2['Rating'].max()\n",
        "# df2['Rating'].isnull().mean()\n",
        "df2['DES'].count()\n",
        "#df2['Review'].count()"
      ],
      "execution_count": 7,
      "outputs": [
        {
          "output_type": "execute_result",
          "data": {
            "text/plain": [
              "4297"
            ]
          },
          "metadata": {
            "tags": []
          },
          "execution_count": 7
        }
      ]
    },
    {
      "metadata": {
        "id": "hylA88l1-ss-",
        "colab_type": "code",
        "outputId": "e2031330-5902-4673-fa04-08f739957611",
        "colab": {
          "base_uri": "https://localhost:8080/",
          "height": 549
        }
      },
      "cell_type": "code",
      "source": [
        "fig, ax = plt.subplots(figsize=(10, 6))\n",
        "\n",
        "df2[\"Sector\"].value_counts().sort_values(ascending=False).plot(kind=\"bar\", ax=ax)\n",
        "\n",
        "ax.set_title(\"Number of Orgs per sector\")\n",
        "ax.set_xlabel(\"Sectors\")\n",
        "ax.set_ylabel(\"Number of Orgs\")\n",
        "\n",
        "plt.show()"
      ],
      "execution_count": 10,
      "outputs": [
        {
          "output_type": "display_data",
          "data": {
            "image/png": "[encoded data removed]",
            "text/plain": [
              "<Figure size 720x432 with 1 Axes>"
            ]
          },
          "metadata": {
            "tags": []
          }
        }
      ]
    },
    {
      "metadata": {
        "id": "OjKal7bnCq4u",
        "colab_type": "code",
        "outputId": "c60a2f83-9faf-45cb-ebbb-380e935cc27b",
        "colab": {
          "base_uri": "https://localhost:8080/",
          "height": 673
        }
      },
      "cell_type": "code",
      "source": [
        ""
      ],
      "execution_count": 0,
      "outputs": [
        {
          "output_type": "stream",
          "text": [
            "/usr/local/lib/python3.6/dist-packages/seaborn/categorical.py:454: FutureWarning: remove_na is deprecated and is a private function. Do not use.\n",
            "  box_data = remove_na(group_data)\n"
          ],
          "name": "stderr"
        },
        {
          "output_type": "execute_result",
          "data": {
            "text/html": [
              "<div>\n",
              "<style scoped>\n",
              "    .dataframe tbody tr th:only-of-type {\n",
              "        vertical-align: middle;\n",
              "    }\n",
              "\n",
              "    .dataframe tbody tr th {\n",
              "        vertical-align: top;\n",
              "    }\n",
              "\n",
              "    .dataframe thead th {\n",
              "        text-align: right;\n",
              "    }\n",
              "</style>\n",
              "<table border=\"1\" class=\"dataframe\">\n",
              "  <thead>\n",
              "    <tr style=\"text-align: right;\">\n",
              "      <th></th>\n",
              "      <th>Rating</th>\n",
              "    </tr>\n",
              "  </thead>\n",
              "  <tbody>\n",
              "    <tr>\n",
              "      <th>count</th>\n",
              "      <td>42927.000000</td>\n",
              "    </tr>\n",
              "    <tr>\n",
              "      <th>mean</th>\n",
              "      <td>2.613903</td>\n",
              "    </tr>\n",
              "    <tr>\n",
              "      <th>std</th>\n",
              "      <td>1.266928</td>\n",
              "    </tr>\n",
              "    <tr>\n",
              "      <th>min</th>\n",
              "      <td>1.000000</td>\n",
              "    </tr>\n",
              "    <tr>\n",
              "      <th>25%</th>\n",
              "      <td>1.000000</td>\n",
              "    </tr>\n",
              "    <tr>\n",
              "      <th>50%</th>\n",
              "      <td>3.000000</td>\n",
              "    </tr>\n",
              "    <tr>\n",
              "      <th>75%</th>\n",
              "      <td>4.000000</td>\n",
              "    </tr>\n",
              "    <tr>\n",
              "      <th>max</th>\n",
              "      <td>4.000000</td>\n",
              "    </tr>\n",
              "  </tbody>\n",
              "</table>\n",
              "</div>"
            ],
            "text/plain": [
              "             Rating\n",
              "count  42927.000000\n",
              "mean       2.613903\n",
              "std        1.266928\n",
              "min        1.000000\n",
              "25%        1.000000\n",
              "50%        3.000000\n",
              "75%        4.000000\n",
              "max        4.000000"
            ]
          },
          "metadata": {
            "tags": []
          },
          "execution_count": 11
        },
        {
          "output_type": "display_data",
          "data": {
            "image/png": "[encoded data removed]",
            "text/plain": [
              "<Figure size 576x396 with 1 Axes>"
            ]
          },
          "metadata": {
            "tags": []
          }
        }
      ]
    },
    {
      "metadata": {
        "id": "-cfE-Ra-cq2j",
        "colab_type": "code",
        "outputId": "a6a2d265-219e-425c-caa7-5c22ae484042",
        "colab": {
          "base_uri": "https://localhost:8080/",
          "height": 637
        }
      },
      "cell_type": "code",
      "source": [
        "plt.figure(figsize=(15, 10))\n",
        "plt.hist([len(sample) for sample in list(df2['Review'])], 50)\n",
        "plt.xlabel('Length of reviews')\n",
        "plt.ylabel('Number of reviews')\n",
        "plt.title('Distribution')\n",
        "plt.show()\n",
        "print(len(df2['Review']))\n"
      ],
      "execution_count": 0,
      "outputs": [
        {
          "output_type": "display_data",
          "data": {
            "image/png": "[encoded data removed]",
            "text/plain": [
              "<Figure size 1080x720 with 1 Axes>"
            ]
          },
          "metadata": {
            "tags": []
          }
        },
        {
          "output_type": "stream",
          "text": [
            "42927\n"
          ],
          "name": "stdout"
        }
      ]
    },
    {
      "metadata": {
        "id": "DDXFDRiccgY7",
        "colab_type": "code",
        "outputId": "f040ec05-0e4b-4c86-cafa-0ec51a096ffd",
        "colab": {
          "base_uri": "https://localhost:8080/",
          "height": 649
        }
      },
      "cell_type": "code",
      "source": [
        "kwargs = {\n",
        "    'ngram_range' : (1, 2),\n",
        "    'dtype' : 'int32',\n",
        "    'strip_accents' : 'unicode',\n",
        "    'decode_error' : 'replace',\n",
        "    'analyzer' : 'word'\n",
        "}\n",
        "\n",
        "vectorizer = CountVectorizer(**kwargs)\n",
        "vect_texts = vectorizer.fit_transform(list(df2['Review']))\n",
        "all_ngrams = vectorizer.get_feature_names()\n",
        "num_ngrams = min(50, len(all_ngrams))\n",
        "all_counts = vect_texts.sum(axis=0).tolist()[0]\n",
        "\n",
        "all_ngrams, all_counts = zip(*[(n, c) for c, n in sorted(zip(all_counts, all_ngrams), reverse=True)])\n",
        "ngrams = all_ngrams[:num_ngrams]\n",
        "counts = all_counts[:num_ngrams]\n",
        "\n",
        "idx = np.arange(num_ngrams)\n",
        "\n",
        "plt.figure(figsize=(15, 10))\n",
        "plt.bar(idx, counts, width=0.8)\n",
        "plt.xlabel('N-grams')\n",
        "plt.ylabel('Frequencies')\n",
        "plt.title('Frequency distribution of ngrams')\n",
        "plt.xticks(idx, ngrams, rotation=45)\n",
        "plt.show()\n"
      ],
      "execution_count": 0,
      "outputs": [
        {
          "output_type": "display_data",
          "data": {
            "image/png": "[encoded data removed]",
            "text/plain": [
              "<Figure size 1080x720 with 1 Axes>"
            ]
          },
          "metadata": {
            "tags": []
          }
        }
      ]
    },
    {
      "metadata": {
        "id": "7MWZ04JVM4g3",
        "colab_type": "code",
        "outputId": "8911f278-4a2e-4f68-9aa8-e241195d92c9",
        "colab": {
          "base_uri": "https://localhost:8080/",
          "height": 312
        }
      },
      "cell_type": "code",
      "source": [
        "from wordcloud import WordCloud, STOPWORDS, ImageColorGenerator\n",
        "from PIL import Image\n",
        "\n",
        "text = df2['Review'][3298]\n",
        "print(text)\n",
        "# Create and generate a word cloud image:\n",
        "wordcloud = WordCloud(max_font_size=50, max_words=100, background_color=\"white\").generate(text)\n",
        "\n",
        "# Display the generated image:\n",
        "plt.imshow(wordcloud, interpolation='bilinear')\n",
        "plt.axis(\"off\")\n",
        "plt.show()"
      ],
      "execution_count": 0,
      "outputs": [
        {
          "output_type": "stream",
          "text": [
            "Honestly, how hard can it be to make a good remake? Obviously pretty hard! I was soooo excited to see this because I loved the original, and my friends go and see it and tell me it really sucks. Well, I finally see it and I was sooo disapointed. Ok, the shower scene was more realistic...that's why I gave it a 3. Otherwise, it did suck. Vince Vaughn does a terrible job playing Norman, he's just too dense or something. I don't know, it was just terrible. Don't see it!\n"
          ],
          "name": "stdout"
        },
        {
          "output_type": "display_data",
          "data": {
            "image/png": "[encoded data removed]",
            "text/plain": [
              "<Figure size 576x396 with 1 Axes>"
            ]
          },
          "metadata": {
            "tags": []
          }
        }
      ]
    },
    {
      "metadata": {
        "id": "i6zE6kiQ1WVr",
        "colab_type": "code",
        "outputId": "798c7622-7c13-41e0-a5d2-780902a9add6",
        "colab": {
          "base_uri": "https://localhost:8080/",
          "height": 103
        }
      },
      "cell_type": "code",
      "source": [
        "import nltk\n",
        "nltk.download('punkt')\n",
        "nltk.download('stopwords')\n",
        "from nltk.tokenize import word_tokenize\n",
        "tokens = word_tokenize(df2['Review'][0])\n",
        "# convert to lower case\n",
        "tokens = [w.lower() for w in tokens]\n",
        "# remove punctuation from each word\n",
        "import string\n",
        "table = str.maketrans('', '', string.punctuation)\n",
        "stripped = [w.translate(table) for w in tokens]\n",
        "# remove remaining tokens that are not alphabetic\n",
        "words = [word for word in stripped if word.isalpha()]\n",
        "# filter out stop words\n",
        "from nltk.corpus import stopwords\n",
        "stop_words = set(stopwords.words('english'))\n",
        "words = [w for w in words if not w in stop_words]\n",
        "print(words[:10])\n"
      ],
      "execution_count": 0,
      "outputs": [
        {
          "output_type": "stream",
          "text": [
            "[nltk_data] Downloading package punkt to /root/nltk_data...\n",
            "[nltk_data]   Unzipping tokenizers/punkt.zip.\n",
            "[nltk_data] Downloading package stopwords to /root/nltk_data...\n",
            "[nltk_data]   Unzipping corpora/stopwords.zip.\n",
            "['mr', 'costner', 'dragged', 'movie', 'far', 'longer', 'necessary', 'aside', 'terrific', 'sea']\n"
          ],
          "name": "stdout"
        }
      ]
    },
    {
      "metadata": {
        "id": "uDeBbL26OFxQ",
        "colab_type": "code",
        "outputId": "8eced67b-a318-4ffa-a129-f09f167e82ef",
        "colab": {
          "base_uri": "https://localhost:8080/",
          "height": 54
        }
      },
      "cell_type": "code",
      "source": [
        "print(stop_words)"
      ],
      "execution_count": 0,
      "outputs": [
        {
          "output_type": "stream",
          "text": [
            "{'is', 'was', 'on', 'she', 'hadn', \"mightn't\", 'yourselves', 'very', 'don', 'itself', 'why', 'through', 'same', 'does', 'he', 'there', 'isn', 'aren', 're', \"hadn't\", 'than', 'again', \"wouldn't\", 'o', 'y', 'by', 'above', 'then', 'will', 'did', 'm', 'to', 'shan', 'during', 'at', 'those', 'more', 'because', 'now', \"doesn't\", 'having', \"isn't\", \"shan't\", 'no', 'as', \"she's\", 'didn', 'doesn', 'needn', 'won', 'your', 'for', 'am', 'be', 'wasn', 'do', \"couldn't\", 've', \"aren't\", 'a', 'these', 'after', \"haven't\", 'so', 'ours', 'in', 'all', \"don't\", 'this', 'too', 'before', 'once', 'against', 'off', 'down', 'ma', 'whom', 'that', 'its', 'weren', 'further', 'being', 'below', 'only', \"you'd\", 'out', 'up', 'ourselves', 'which', 'with', 'the', 'has', 'him', 'most', 'an', 'own', 'themselves', 'they', 'of', 'can', 'couldn', 'our', 'wouldn', 'if', 'such', 'haven', \"you're\", 'not', 'we', 'who', 'how', 'some', \"weren't\", \"shouldn't\", 'doing', 'and', \"you've\", 't', 'himself', 'you', 'their', 'should', 'my', 'me', 'just', 'or', 's', 'herself', 'yours', 'her', 'myself', 'any', 'both', \"needn't\", 'what', 'few', 'hasn', 'until', 'yourself', 'theirs', 'from', 'had', 'mightn', 'his', \"wasn't\", 'when', 'here', 'ain', 'other', 'been', 'mustn', 'under', 'into', \"that'll\", \"hasn't\", 'd', 'each', 'over', 'shouldn', 'while', \"didn't\", \"won't\", \"mustn't\", \"should've\", 'have', 'about', 'between', 'were', \"it's\", 'i', 'it', 'are', 'll', \"you'll\", 'hers', 'them', 'but', 'where', 'nor'}\n"
          ],
          "name": "stdout"
        }
      ]
    },
    {
      "metadata": {
        "scrolled": true,
        "id": "7yvSi47T1WVx",
        "colab_type": "code",
        "outputId": "3cb7b247-2e19-4ec7-8a10-6b02e9b066bf",
        "colab": {
          "base_uri": "https://localhost:8080/",
          "height": 155
        }
      },
      "cell_type": "code",
      "source": [
        "from nltk.stem.snowball import SnowballStemmer\n",
        "nltk.download('wordnet')\n",
        "stemmer = SnowballStemmer('english')\n",
        "stemmed_words = [stemmer.stem(word) for word in words]\n",
        "\n",
        "from nltk import WordNetLemmatizer\n",
        "\n",
        "lem = WordNetLemmatizer()\n",
        "lemmatised_words = [lem.lemmatize(word, 'v') for word in words]\n",
        "\n",
        "print('original')\n",
        "print(words[:10])\n",
        "print('stemmed')\n",
        "print(stemmed_words[:10])\n",
        "print('lemmatised')\n",
        "print(lemmatised_words[:10])\n"
      ],
      "execution_count": 0,
      "outputs": [
        {
          "output_type": "stream",
          "text": [
            "[nltk_data] Downloading package wordnet to /root/nltk_data...\n",
            "[nltk_data]   Unzipping corpora/wordnet.zip.\n",
            "original\n",
            "['mr', 'costner', 'dragged', 'movie', 'far', 'longer', 'necessary', 'aside', 'terrific', 'sea']\n",
            "stemmed\n",
            "['mr', 'costner', 'drag', 'movi', 'far', 'longer', 'necessari', 'asid', 'terrif', 'sea']\n",
            "lemmatised\n",
            "['mr', 'costner', 'drag', 'movie', 'far', 'longer', 'necessary', 'aside', 'terrific', 'sea']\n"
          ],
          "name": "stdout"
        }
      ]
    },
    {
      "metadata": {
        "scrolled": true,
        "id": "ccs4OCBt1WV5",
        "colab_type": "code",
        "outputId": "eb9d6625-08de-42bd-ab26-54122fba3b49",
        "colab": {
          "base_uri": "https://localhost:8080/",
          "height": 89
        }
      },
      "cell_type": "code",
      "source": [
        "# apply lemmatising\n",
        "from textblob import Word\n",
        "df2[\"text_lemmatised\"] = df2['Review'].apply(lambda x: \" \".join([lem.lemmatize(word, 'v') for word in x.split()]))\n",
        "print(df2['Review'].values[0])\n",
        "print(\"---------------\")\n",
        "print(df2[\"text_lemmatised\"].values[0])"
      ],
      "execution_count": 0,
      "outputs": [
        {
          "output_type": "stream",
          "text": [
            "Once again Mr. Costner has dragged out a movie for far longer than necessary. Aside from the terrific sea rescue sequences, of which there are very few I just did not care about any of the characters. Most of us have ghosts in the closet, and Costner's character are realized early on, and then forgotten until much later, by which time I did not care. The character we should really care about is a very cocky, overconfident Ashton Kutcher. The problem is he comes off as kid who thinks he's better than anyone else around him and shows no signs of a cluttered closet. His only obstacle appears to be winning over Costner. Finally when we are well past the half way point of this stinker, Costner tells us all about Kutcher's ghosts. We are told why Kutcher is driven to be the best with no prior inkling or foreshadowing. No magic here, it was all I could do to keep from turning it off an hour in.\n",
            "---------------\n",
            "Once again Mr. Costner have drag out a movie for far longer than necessary. Aside from the terrific sea rescue sequences, of which there be very few I just do not care about any of the characters. Most of us have ghost in the closet, and Costner's character be realize early on, and then forget until much later, by which time I do not care. The character we should really care about be a very cocky, overconfident Ashton Kutcher. The problem be he come off as kid who think he's better than anyone else around him and show no sign of a clutter closet. His only obstacle appear to be win over Costner. Finally when we be well past the half way point of this stinker, Costner tell us all about Kutcher's ghosts. We be tell why Kutcher be drive to be the best with no prior inkling or foreshadowing. No magic here, it be all I could do to keep from turn it off an hour in.\n"
          ],
          "name": "stdout"
        }
      ]
    },
    {
      "metadata": {
        "scrolled": true,
        "id": "0j8K40WB1WV-",
        "colab_type": "code",
        "outputId": "725633ff-9c7e-4e50-b272-fb0ed23fc7c2",
        "colab": {
          "base_uri": "https://localhost:8080/",
          "height": 292
        }
      },
      "cell_type": "code",
      "source": [
        "from sklearn.model_selection import train_test_split\n",
        "\n",
        "X = df2[\"text_lemmatised\"]\n",
        "y = df2['Rating']\n",
        "\n",
        "\n",
        "X_train, X_test, y_train, y_test = train_test_split(X, y, test_size=0.3, random_state=42, stratify=y)\n",
        "# # stratify=y using the number of stars as the class labels rather than the column titles\n",
        "#tt = vec.fit_transform(X_test)\n",
        "\n",
        "print(X_train[0:10])\n",
        "y.value_counts()\n"
      ],
      "execution_count": 0,
      "outputs": [
        {
          "output_type": "stream",
          "text": [
            "11020    Having live in Japan for several years this mo...\n",
            "11021    I saw and have the original 1959 black and whi...\n",
            "41885    John Boorman's \"Deliverance\" concern four subu...\n",
            "25637    In my opinion, A GUY THING be a hilarious, wit...\n",
            "6415     I would probably want to give this movie a zer...\n",
            "28336    I saw One Life Stand when it premier at the 20...\n",
            "20901    I be root for this film as it's a remake of a ...\n",
            "8493     Joe Don's open line say everything about this ...\n",
            "13643    I just saw this movie last night, and after re...\n",
            "25656    This cartoon be strange, but the story actuall...\n",
            "Name: text_lemmatised, dtype: object\n"
          ],
          "name": "stdout"
        },
        {
          "output_type": "execute_result",
          "data": {
            "text/plain": [
              "4    17125\n",
              "1    12238\n",
              "2     9223\n",
              "3     4341\n",
              "Name: Rating, dtype: int64"
            ]
          },
          "metadata": {
            "tags": []
          },
          "execution_count": 41
        }
      ]
    },
    {
      "metadata": {
        "id": "Q1htRdHP_EUv",
        "colab_type": "code",
        "outputId": "d7e2d113-27a6-4467-d8a3-686bed96431a",
        "colab": {
          "base_uri": "https://localhost:8080/",
          "height": 34
        }
      },
      "cell_type": "code",
      "source": [
        "print(X_test.shape)"
      ],
      "execution_count": 0,
      "outputs": [
        {
          "output_type": "stream",
          "text": [
            "(12879,)\n"
          ],
          "name": "stdout"
        }
      ]
    },
    {
      "metadata": {
        "id": "0ZelE48N1WWE",
        "colab_type": "code",
        "colab": {}
      },
      "cell_type": "code",
      "source": [
        "from sklearn.ensemble import RandomForestClassifier\n",
        "\n",
        "from sklearn.feature_extraction.text import CountVectorizer\n",
        "# https://scikit-learn.org/stable/modules/generated/sklearn.feature_extraction.text.CountVectorizer.html\n",
        "# turns text into a matrix of tokens \n",
        "\n",
        "vectorizer_1000 = CountVectorizer(binary=False,\n",
        "                                   stop_words='english',\n",
        "                                   min_df=2)\n",
        "\n",
        "X_train_text = vectorizer_1000.fit_transform(X_train)\n",
        "tt = vectorizer_1000.fit_transform(X_test)\n",
        "rf = RandomForestClassifier()\n",
        "rf.fit(X_train_text, y_train);\n"
      ],
      "execution_count": 0,
      "outputs": []
    },
    {
      "metadata": {
        "id": "-7uRNCf41WWL",
        "colab_type": "code",
        "outputId": "476fa21f-2071-4f28-e435-1b35f7dff3d4",
        "colab": {
          "base_uri": "https://localhost:8080/",
          "height": 51
        }
      },
      "cell_type": "code",
      "source": [
        "print(tt.shape)\n",
        "print(X_train.shape)"
      ],
      "execution_count": 0,
      "outputs": [
        {
          "output_type": "stream",
          "text": [
            "(12879, 30645)\n",
            "(30048,)\n"
          ],
          "name": "stdout"
        }
      ]
    },
    {
      "metadata": {
        "scrolled": false,
        "id": "sSWGIPuZ1WWQ",
        "colab_type": "code",
        "outputId": "01ae39df-cd93-4c90-c952-a04f375b992f",
        "colab": {
          "base_uri": "https://localhost:8080/",
          "height": 51
        }
      },
      "cell_type": "code",
      "source": [
        "import warnings\n",
        "warnings.filterwarnings(\"ignore\")\n",
        "\n",
        "import numpy as np\n",
        "from sklearn.ensemble import RandomForestClassifier\n",
        "from sklearn.model_selection import cross_val_score\n",
        "\n",
        "rf = RandomForestClassifier()\n",
        "#\n",
        "scores = cross_val_score(rf, X_train_text, y_train, cv=7)\n",
        "\n",
        "print(scores, np.mean(scores))"
      ],
      "execution_count": 0,
      "outputs": [
        {
          "output_type": "stream",
          "text": [
            "[0.56414435 0.55682347 0.55229443 0.55521901 0.56570363 0.56350501\n",
            " 0.55628059] 0.5591386436943828\n"
          ],
          "name": "stdout"
        }
      ]
    },
    {
      "metadata": {
        "id": "8K3k--WURUEf",
        "colab_type": "code",
        "outputId": "07a073f0-0f24-45f3-c5a1-a831b9d639c7",
        "colab": {
          "base_uri": "https://localhost:8080/",
          "height": 34
        }
      },
      "cell_type": "code",
      "source": [
        "from sklearn.model_selection import GridSearchCV\n",
        "parameters = {\n",
        "    'n_estimators'      : [50,70],\n",
        "    #'max_depth'         : [8, 9, 10, 11, 12],\n",
        "    #'random_state'      : [0],\n",
        "    #'max_features': ['auto'],\n",
        "    #'criterion' :['gini']\n",
        "}    \n",
        "clf = GridSearchCV(RandomForestClassifier(), parameters, cv=10, n_jobs=-1)\n",
        "clf.fit(X_train_text, y_train)\n",
        "clf.best_score_"
      ],
      "execution_count": 0,
      "outputs": [
        {
          "output_type": "execute_result",
          "data": {
            "text/plain": [
              "0.6141506922257721"
            ]
          },
          "metadata": {
            "tags": []
          },
          "execution_count": 25
        }
      ]
    },
    {
      "metadata": {
        "id": "lpXU8L_SmkPR",
        "colab_type": "code",
        "outputId": "27ce7372-9699-4bca-92ae-d8f581ac2781",
        "colab": {
          "base_uri": "https://localhost:8080/",
          "height": 51
        }
      },
      "cell_type": "code",
      "source": [
        "from tqdm import tqdm\n",
        "import time\n",
        "pbar = tqdm(total=100)\n",
        "for i in range(10):\n",
        "    time.sleep(0.1)\n",
        "    pbar.update(10)\n",
        "pbar.close()\n",
        "clf.best_params_"
      ],
      "execution_count": 0,
      "outputs": [
        {
          "output_type": "stream",
          "text": [
            "100%|██████████| 100/100 [00:01<00:00, 98.60it/s]\n"
          ],
          "name": "stderr"
        },
        {
          "output_type": "execute_result",
          "data": {
            "text/plain": [
              "{'n_estimators': 50}"
            ]
          },
          "metadata": {
            "tags": []
          },
          "execution_count": 28
        }
      ]
    },
    {
      "metadata": {
        "id": "oWTC276XYCB4",
        "colab_type": "code",
        "outputId": "69fe4030-abff-4fd3-cbf9-626023d5961b",
        "colab": {
          "base_uri": "https://localhost:8080/",
          "height": 189
        }
      },
      "cell_type": "code",
      "source": [
        "def get_feature_importances(vocabulary, rf_importances, top_n):\n",
        "    vocab_features = sorted(vocabulary.items(), key=lambda x: x[1])\n",
        "    importances = zip(vocab_features, rf_importances)\n",
        "    \n",
        "    for z in sorted(importances, key=lambda x: abs(x[1]), reverse=True)[:top_n]:\n",
        "        print(z)\n",
        "\n",
        "rf = RandomForestClassifier()\n",
        "rf.fit(X_train_text, y_train);\n",
        "get_feature_importances(vectorizer_1000.vocabulary_, rf.feature_importances_, 10)\n",
        "\n"
      ],
      "execution_count": 0,
      "outputs": [
        {
          "output_type": "stream",
          "text": [
            "(('worst', 43971), 0.013281788080044215)\n",
            "(('waste', 43117), 0.006438081995041775)\n",
            "(('bad', 3201), 0.005854023963953717)\n",
            "(('love', 23685), 0.003830300427904357)\n",
            "(('great', 17064), 0.003498026876584923)\n",
            "(('money', 26101), 0.003408389139348297)\n",
            "(('best', 4101), 0.0032932211510601286)\n",
            "(('terrible', 39459), 0.0032476355949574006)\n",
            "(('movie', 26449), 0.0031526411403264543)\n",
            "(('awful', 3063), 0.0028446203529031255)\n"
          ],
          "name": "stdout"
        }
      ]
    },
    {
      "metadata": {
        "id": "RDzqo3f9dCMU",
        "colab_type": "code",
        "outputId": "11f69d85-e76f-43bf-dfed-f3d5e93c449d",
        "colab": {
          "base_uri": "https://localhost:8080/",
          "height": 137
        }
      },
      "cell_type": "code",
      "source": [
        "from sklearn.feature_extraction.text import TfidfVectorizer\n",
        "\n",
        "def try_new_vectoriser(vec, X, y):\n",
        "    X_train_text = vec.fit_transform(X)\n",
        "    print('vocabulary length')\n",
        "    print(len(vec.vocabulary_))\n",
        "    rf = RandomForestClassifier()\n",
        "    scores = cross_val_score(rf, X_train_text, y_train, cv=7)\n",
        "    print('scores')\n",
        "    print(scores)\n",
        "    print('mean scores')\n",
        "    print(np.mean(scores))\n",
        "\n",
        "tfidf_vec = TfidfVectorizer(stop_words=\"english\",\n",
        "                            min_df=2,\n",
        "                            ngram_range=(1, 2))\n",
        "\n",
        "try_new_vectoriser(tfidf_vec,\n",
        "                   X_train,\n",
        "                   y_train)"
      ],
      "execution_count": 0,
      "outputs": [
        {
          "output_type": "stream",
          "text": [
            "vocabulary length\n",
            "368744\n",
            "scores\n",
            "[0.56088475 0.55635771 0.55439087 0.56686859 0.5638397  0.55208576\n",
            " 0.55697973]\n",
            "mean scores\n",
            "0.5587724439139615\n"
          ],
          "name": "stdout"
        }
      ]
    },
    {
      "metadata": {
        "id": "y_kDzioVl6lF",
        "colab_type": "code",
        "outputId": "112f84c6-baa5-4350-abbf-83b95d681504",
        "colab": {
          "base_uri": "https://localhost:8080/",
          "height": 51
        }
      },
      "cell_type": "code",
      "source": [
        "from tqdm import tqdm\n",
        "import time\n",
        "pbar = tqdm(total=100)\n",
        "for i in range(10):\n",
        "    time.sleep(0.1)\n",
        "    pbar.update(10)\n",
        "pbar.close()\n",
        "parameters = {\n",
        "    'n_estimators'      : [50],\n",
        "    #'max_depth'         : [8, 9, 10, 11, 12],\n",
        "    #'random_state'      : [0],\n",
        "    #'max_features': ['auto'],\n",
        "    #'criterion' :['gini']\n",
        "}    \n",
        "clf2 = GridSearchCV(RandomForestClassifier(), parameters, cv=10, n_jobs=-1)\n",
        "clf2.fit(X_train_text, y_train)\n",
        "clf2.best_score_"
      ],
      "execution_count": 0,
      "outputs": [
        {
          "output_type": "stream",
          "text": [
            "100%|██████████| 100/100 [00:01<00:00, 98.54it/s]\n"
          ],
          "name": "stderr"
        },
        {
          "output_type": "execute_result",
          "data": {
            "text/plain": [
              "0.6108559637912673"
            ]
          },
          "metadata": {
            "tags": []
          },
          "execution_count": 32
        }
      ]
    },
    {
      "metadata": {
        "id": "BENj7yN1aVW9",
        "colab_type": "code",
        "outputId": "ed6ca6d6-0995-41e0-d50d-2dea479c56f3",
        "colab": {
          "base_uri": "https://localhost:8080/",
          "height": 189
        }
      },
      "cell_type": "code",
      "source": [
        "rf = RandomForestClassifier()\n",
        "rf.fit(tfidf_vec.fit_transform(X_train), y_train)\n",
        "\n",
        "get_feature_importances(tfidf_vec.vocabulary_, rf.feature_importances_, 10)"
      ],
      "execution_count": 0,
      "outputs": [
        {
          "output_type": "stream",
          "text": [
            "(('waste', 352478), 0.006749144100575108)\n",
            "(('great', 139696), 0.005280778284767006)\n",
            "(('worst', 363908), 0.004546277922808914)\n",
            "(('bad', 23431), 0.00408894169255815)\n",
            "(('worse', 363677), 0.002659347593581313)\n",
            "(('awful', 22631), 0.0025986355990189336)\n",
            "(('don', 91518), 0.0022035663923890914)\n",
            "(('like', 185890), 0.001954910762344214)\n",
            "(('excellent', 107038), 0.0019184988736129626)\n",
            "(('thing', 324951), 0.0018154005499357896)\n"
          ],
          "name": "stdout"
        }
      ]
    },
    {
      "metadata": {
        "id": "y2JRTcx-1WW_",
        "colab_type": "code",
        "outputId": "903a69f4-eb2f-4d20-e9a4-93559608c9ce",
        "colab": {
          "base_uri": "https://localhost:8080/",
          "height": 51
        }
      },
      "cell_type": "code",
      "source": [
        "print(clf.best_score_)\n",
        "print(clf2.best_score_)"
      ],
      "execution_count": 0,
      "outputs": [
        {
          "output_type": "stream",
          "text": [
            "0.6141506922257721\n",
            "0.6108559637912673\n"
          ],
          "name": "stdout"
        }
      ]
    },
    {
      "metadata": {
        "id": "HRz_Z_HbCQrU",
        "colab_type": "code",
        "outputId": "a5c8516d-c301-45bf-b437-d6a0fc1d9eef",
        "colab": {
          "base_uri": "https://localhost:8080/",
          "height": 103
        }
      },
      "cell_type": "code",
      "source": [
        "from sklearn.metrics import confusion_matrix, accuracy_score\n",
        "\n",
        "vec = TfidfVectorizer(stop_words=\"english\", min_df=2, ngram_range=(1, 2))\n",
        "X_train_text = vec.fit_transform(X_train)\n",
        "X_test_text = vec.transform(X_test)\n",
        "\n",
        "rf = RandomForestClassifier()\n",
        "rf.fit(X_train_text, y_train)\n",
        "clf.fit(X_train_text, y_train)\n",
        "y_pred = rf.predict(X_test_text)\n",
        "\n",
        "print(accuracy_score(y_test, y_pred))\n",
        "print(confusion_matrix(y_test, y_pred))"
      ],
      "execution_count": 0,
      "outputs": [
        {
          "output_type": "stream",
          "text": [
            "0.5612236974920413\n",
            "[[2501  324    7  840]\n",
            " [1253  428   12 1074]\n",
            " [ 247  114    9  932]\n",
            " [ 621  215   12 4290]]\n"
          ],
          "name": "stdout"
        }
      ]
    },
    {
      "metadata": {
        "id": "IR-XLv21FuQz",
        "colab_type": "code",
        "colab": {}
      },
      "cell_type": "code",
      "source": [
        ""
      ],
      "execution_count": 0,
      "outputs": []
    }
  ]
}